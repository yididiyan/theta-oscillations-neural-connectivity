{
 "cells": [
  {
   "cell_type": "code",
   "execution_count": 29,
   "id": "9b6371f0",
   "metadata": {},
   "outputs": [],
   "source": [
    "from all_stimuli_plots import read_plot_data, plot_all_area_based\n",
    "from calculate_pvalues import calculate_p_value, correct_pvalues\n",
    "\n",
    "import numpy as np"
   ]
  },
  {
   "cell_type": "code",
   "execution_count": 1,
   "id": "ce001307",
   "metadata": {},
   "outputs": [],
   "source": [
    "\n",
    "# directory where the output folder resides \n",
    "# path to generated DI files -- see example below \n",
    "\n",
    "base_dir = '../../../' \n",
    "\n",
    "data = read_plot_data(f'{base_dir}/', \n",
    "             f'{base_dir}/output_stimuli_9/DI_values/pre_spk_times/9/500_1500/lasso_0.5/*.pkl', \n",
    "            f'{base_dir}/output_stimuli_9/DI_values/post_9_spk_times/9/500_1500/lasso_0.5/*.pkl')\n"
   ]
  },
  {
   "cell_type": "markdown",
   "id": "6de446fb",
   "metadata": {},
   "source": [
    "## Calculating p values "
   ]
  },
  {
   "cell_type": "code",
   "execution_count": 17,
   "id": "fa43999a",
   "metadata": {},
   "outputs": [
    {
     "name": "stdout",
     "output_type": "stream",
     "text": [
      "Using 100000 runs\n",
      "[] 100000 nan\n",
      "0.0\n",
      "Significant (3, 12.0), pre - 17, post - 0 with significance value 0.0\n"
     ]
    }
   ],
   "source": [
    "\n",
    "areas = ['AL', 'LM', 'V1']\n",
    "pvals = {}\n",
    "\n",
    "n_runs = 100_000\n",
    "\n",
    "for a1 in areas:\n",
    "    pvals[a1] = {}\n",
    "    for a2 in areas:\n",
    "        if a1 == a2 == 'V1':\n",
    "            pvals[a1][a2] =  calculate_p_value(data['raw'][a1][a2]['pre'], \n",
    "                        data['raw'][a1][a2]['post'], \n",
    "                        true_diff=np.reshape(data['data'][a1][a2].T, (5 * 5)), n_runs=n_runs)"
   ]
  },
  {
   "cell_type": "markdown",
   "id": "5953c85f",
   "metadata": {},
   "source": [
    "## Correcting p values "
   ]
  },
  {
   "cell_type": "code",
   "execution_count": 27,
   "id": "58b9098e",
   "metadata": {},
   "outputs": [],
   "source": [
    "data_1 = correct_pvalues(pvals, area_filter=[('VL', 'AL')])"
   ]
  },
  {
   "cell_type": "markdown",
   "id": "96c70da2",
   "metadata": {},
   "source": [
    "# Plots "
   ]
  },
  {
   "cell_type": "code",
   "execution_count": 31,
   "id": "febf6f91",
   "metadata": {},
   "outputs": [],
   "source": [
    "plot_all_area_based(data, 9, './stim_9_500_1500.pdf')"
   ]
  }
 ],
 "metadata": {
  "kernelspec": {
   "display_name": "ccgpfa(py38)",
   "language": "python",
   "name": "ccgpfa"
  },
  "language_info": {
   "codemirror_mode": {
    "name": "ipython",
    "version": 3
   },
   "file_extension": ".py",
   "mimetype": "text/x-python",
   "name": "python",
   "nbconvert_exporter": "python",
   "pygments_lexer": "ipython3",
   "version": "3.8.10"
  }
 },
 "nbformat": 4,
 "nbformat_minor": 5
}
